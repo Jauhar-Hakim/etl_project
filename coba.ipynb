{
 "cells": [
  {
   "cell_type": "code",
   "execution_count": 22,
   "id": "a04705af",
   "metadata": {},
   "outputs": [],
   "source": [
    "import gspread"
   ]
  },
  {
   "cell_type": "code",
   "execution_count": 23,
   "id": "f427250c",
   "metadata": {},
   "outputs": [],
   "source": [
    "gc = gspread.oauth(credentials_filename='credentials.json')"
   ]
  },
  {
   "cell_type": "code",
   "execution_count": 24,
   "id": "85623563",
   "metadata": {},
   "outputs": [
    {
     "data": {
      "text/plain": [
       "<Spreadsheet 'Copy of Torch Arrival Data' id:1xEqT4kghsaAZYTdN7SN9UHN31Ehx29OykbG1Mjpm-go>"
      ]
     },
     "execution_count": 24,
     "metadata": {},
     "output_type": "execute_result"
    }
   ],
   "source": [
    "sht2 = gc.open_by_url('https://docs.google.com/spreadsheets/d/1xEqT4kghsaAZYTdN7SN9UHN31Ehx29OykbG1Mjpm-go/edit?gid=0#gid=0')\n",
    "\n",
    "sht2"
   ]
  },
  {
   "cell_type": "code",
   "execution_count": 25,
   "id": "390ef61c",
   "metadata": {},
   "outputs": [
    {
     "data": {
      "text/plain": [
       "<Worksheet 'Shopee' id:0>"
      ]
     },
     "execution_count": 25,
     "metadata": {},
     "output_type": "execute_result"
    }
   ],
   "source": [
    "worksheet = sht2.get_worksheet(0)\n",
    "worksheet = sht2.worksheet(\"Shopee\")\n",
    "worksheet"
   ]
  },
  {
   "cell_type": "code",
   "execution_count": 26,
   "id": "a548ab20",
   "metadata": {},
   "outputs": [
    {
     "data": {
      "text/plain": [
       "[<Worksheet 'Shopee' id:0>,\n",
       " <Worksheet 'Tokopedia' id:715003248>,\n",
       " <Worksheet 'TokoMargonda' id:1960044452>]"
      ]
     },
     "execution_count": 26,
     "metadata": {},
     "output_type": "execute_result"
    }
   ],
   "source": [
    "sht2.worksheets()"
   ]
  },
  {
   "cell_type": "code",
   "execution_count": 27,
   "id": "51d769a2",
   "metadata": {},
   "outputs": [],
   "source": [
    "import pandas as pd\n",
    "\n",
    "worksheet = sht2.worksheet(\"Shopee\")\n",
    "shopee = pd.DataFrame(worksheet.get_all_records())\n",
    "worksheet = sht2.worksheet(\"Tokopedia\")\n",
    "tokopedia = pd.DataFrame(worksheet.get_all_records())\n",
    "worksheet = sht2.worksheet(\"TokoMargonda\")\n",
    "margonda = pd.DataFrame(worksheet.get_all_records())"
   ]
  },
  {
   "cell_type": "markdown",
   "id": "8c24179c",
   "metadata": {},
   "source": [
    "date = tanggal tercatatnya arrival\n",
    "\n",
    "total_arrival = jumlah customer yang berkunjung (halaman produk + kunjungan toko)\n",
    "\n",
    "channel = Channel penjualan Torch (value : Shopee, Tokopedia, Toko Margonda)"
   ]
  },
  {
   "cell_type": "code",
   "execution_count": 28,
   "id": "d4efce07",
   "metadata": {},
   "outputs": [
    {
     "data": {
      "text/html": [
       "<div>\n",
       "<style scoped>\n",
       "    .dataframe tbody tr th:only-of-type {\n",
       "        vertical-align: middle;\n",
       "    }\n",
       "\n",
       "    .dataframe tbody tr th {\n",
       "        vertical-align: top;\n",
       "    }\n",
       "\n",
       "    .dataframe thead th {\n",
       "        text-align: right;\n",
       "    }\n",
       "</style>\n",
       "<table border=\"1\" class=\"dataframe\">\n",
       "  <thead>\n",
       "    <tr style=\"text-align: right;\">\n",
       "      <th></th>\n",
       "      <th>date</th>\n",
       "      <th>arrival</th>\n",
       "    </tr>\n",
       "  </thead>\n",
       "  <tbody>\n",
       "    <tr>\n",
       "      <th>0</th>\n",
       "      <td>2023-01-01</td>\n",
       "      <td>443</td>\n",
       "    </tr>\n",
       "    <tr>\n",
       "      <th>1</th>\n",
       "      <td>2023-01-02</td>\n",
       "      <td>899</td>\n",
       "    </tr>\n",
       "    <tr>\n",
       "      <th>2</th>\n",
       "      <td>2023-01-03</td>\n",
       "      <td>576</td>\n",
       "    </tr>\n",
       "    <tr>\n",
       "      <th>3</th>\n",
       "      <td>2023-01-04</td>\n",
       "      <td>267</td>\n",
       "    </tr>\n",
       "    <tr>\n",
       "      <th>4</th>\n",
       "      <td>2023-01-05</td>\n",
       "      <td>271</td>\n",
       "    </tr>\n",
       "  </tbody>\n",
       "</table>\n",
       "</div>"
      ],
      "text/plain": [
       "         date  arrival\n",
       "0  2023-01-01      443\n",
       "1  2023-01-02      899\n",
       "2  2023-01-03      576\n",
       "3  2023-01-04      267\n",
       "4  2023-01-05      271"
      ]
     },
     "metadata": {},
     "output_type": "display_data"
    },
    {
     "data": {
      "text/html": [
       "<div>\n",
       "<style scoped>\n",
       "    .dataframe tbody tr th:only-of-type {\n",
       "        vertical-align: middle;\n",
       "    }\n",
       "\n",
       "    .dataframe tbody tr th {\n",
       "        vertical-align: top;\n",
       "    }\n",
       "\n",
       "    .dataframe thead th {\n",
       "        text-align: right;\n",
       "    }\n",
       "</style>\n",
       "<table border=\"1\" class=\"dataframe\">\n",
       "  <thead>\n",
       "    <tr style=\"text-align: right;\">\n",
       "      <th></th>\n",
       "      <th>date</th>\n",
       "      <th>arrival</th>\n",
       "    </tr>\n",
       "  </thead>\n",
       "  <tbody>\n",
       "    <tr>\n",
       "      <th>0</th>\n",
       "      <td>2023-01-01</td>\n",
       "      <td>263</td>\n",
       "    </tr>\n",
       "    <tr>\n",
       "      <th>1</th>\n",
       "      <td>2023-01-02</td>\n",
       "      <td>907</td>\n",
       "    </tr>\n",
       "    <tr>\n",
       "      <th>2</th>\n",
       "      <td>2023-01-03</td>\n",
       "      <td>31</td>\n",
       "    </tr>\n",
       "    <tr>\n",
       "      <th>3</th>\n",
       "      <td>2023-01-04</td>\n",
       "      <td>992</td>\n",
       "    </tr>\n",
       "    <tr>\n",
       "      <th>4</th>\n",
       "      <td>2023-01-05</td>\n",
       "      <td>602</td>\n",
       "    </tr>\n",
       "  </tbody>\n",
       "</table>\n",
       "</div>"
      ],
      "text/plain": [
       "         date  arrival\n",
       "0  2023-01-01      263\n",
       "1  2023-01-02      907\n",
       "2  2023-01-03       31\n",
       "3  2023-01-04      992\n",
       "4  2023-01-05      602"
      ]
     },
     "metadata": {},
     "output_type": "display_data"
    },
    {
     "data": {
      "text/html": [
       "<div>\n",
       "<style scoped>\n",
       "    .dataframe tbody tr th:only-of-type {\n",
       "        vertical-align: middle;\n",
       "    }\n",
       "\n",
       "    .dataframe tbody tr th {\n",
       "        vertical-align: top;\n",
       "    }\n",
       "\n",
       "    .dataframe thead th {\n",
       "        text-align: right;\n",
       "    }\n",
       "</style>\n",
       "<table border=\"1\" class=\"dataframe\">\n",
       "  <thead>\n",
       "    <tr style=\"text-align: right;\">\n",
       "      <th></th>\n",
       "      <th>date</th>\n",
       "      <th>arrival_toko</th>\n",
       "      <th>arrival_toko_shopee</th>\n",
       "      <th>arrival_toko_tokopedia</th>\n",
       "    </tr>\n",
       "  </thead>\n",
       "  <tbody>\n",
       "    <tr>\n",
       "      <th>0</th>\n",
       "      <td>2023-01-01</td>\n",
       "      <td>25</td>\n",
       "      <td>229</td>\n",
       "      <td>92</td>\n",
       "    </tr>\n",
       "    <tr>\n",
       "      <th>1</th>\n",
       "      <td>2023-01-02</td>\n",
       "      <td>48</td>\n",
       "      <td>1</td>\n",
       "      <td>17</td>\n",
       "    </tr>\n",
       "    <tr>\n",
       "      <th>2</th>\n",
       "      <td>2023-01-03</td>\n",
       "      <td>68</td>\n",
       "      <td>493</td>\n",
       "      <td>46</td>\n",
       "    </tr>\n",
       "    <tr>\n",
       "      <th>3</th>\n",
       "      <td>2023-01-04</td>\n",
       "      <td>48</td>\n",
       "      <td>287</td>\n",
       "      <td>88</td>\n",
       "    </tr>\n",
       "    <tr>\n",
       "      <th>4</th>\n",
       "      <td>2023-01-05</td>\n",
       "      <td>62</td>\n",
       "      <td>232</td>\n",
       "      <td>40</td>\n",
       "    </tr>\n",
       "  </tbody>\n",
       "</table>\n",
       "</div>"
      ],
      "text/plain": [
       "         date  arrival_toko  arrival_toko_shopee  arrival_toko_tokopedia\n",
       "0  2023-01-01            25                  229                      92\n",
       "1  2023-01-02            48                    1                      17\n",
       "2  2023-01-03            68                  493                      46\n",
       "3  2023-01-04            48                  287                      88\n",
       "4  2023-01-05            62                  232                      40"
      ]
     },
     "metadata": {},
     "output_type": "display_data"
    }
   ],
   "source": [
    "display(shopee.head())\n",
    "display(tokopedia.head())\n",
    "display(margonda.head())"
   ]
  },
  {
   "cell_type": "code",
   "execution_count": 29,
   "id": "92d89b27",
   "metadata": {},
   "outputs": [
    {
     "data": {
      "text/html": [
       "<div>\n",
       "<style scoped>\n",
       "    .dataframe tbody tr th:only-of-type {\n",
       "        vertical-align: middle;\n",
       "    }\n",
       "\n",
       "    .dataframe tbody tr th {\n",
       "        vertical-align: top;\n",
       "    }\n",
       "\n",
       "    .dataframe thead th {\n",
       "        text-align: right;\n",
       "    }\n",
       "</style>\n",
       "<table border=\"1\" class=\"dataframe\">\n",
       "  <thead>\n",
       "    <tr style=\"text-align: right;\">\n",
       "      <th></th>\n",
       "      <th>date</th>\n",
       "      <th>arrival_toko</th>\n",
       "      <th>arrival_toko_shopee</th>\n",
       "      <th>arrival_toko_tokopedia</th>\n",
       "      <th>total_arrival</th>\n",
       "    </tr>\n",
       "  </thead>\n",
       "  <tbody>\n",
       "    <tr>\n",
       "      <th>0</th>\n",
       "      <td>2023-01-01</td>\n",
       "      <td>25</td>\n",
       "      <td>229</td>\n",
       "      <td>92</td>\n",
       "      <td>346</td>\n",
       "    </tr>\n",
       "    <tr>\n",
       "      <th>1</th>\n",
       "      <td>2023-01-02</td>\n",
       "      <td>48</td>\n",
       "      <td>1</td>\n",
       "      <td>17</td>\n",
       "      <td>66</td>\n",
       "    </tr>\n",
       "    <tr>\n",
       "      <th>2</th>\n",
       "      <td>2023-01-03</td>\n",
       "      <td>68</td>\n",
       "      <td>493</td>\n",
       "      <td>46</td>\n",
       "      <td>607</td>\n",
       "    </tr>\n",
       "    <tr>\n",
       "      <th>3</th>\n",
       "      <td>2023-01-04</td>\n",
       "      <td>48</td>\n",
       "      <td>287</td>\n",
       "      <td>88</td>\n",
       "      <td>423</td>\n",
       "    </tr>\n",
       "    <tr>\n",
       "      <th>4</th>\n",
       "      <td>2023-01-05</td>\n",
       "      <td>62</td>\n",
       "      <td>232</td>\n",
       "      <td>40</td>\n",
       "      <td>334</td>\n",
       "    </tr>\n",
       "  </tbody>\n",
       "</table>\n",
       "</div>"
      ],
      "text/plain": [
       "         date  arrival_toko  arrival_toko_shopee  arrival_toko_tokopedia  \\\n",
       "0  2023-01-01            25                  229                      92   \n",
       "1  2023-01-02            48                    1                      17   \n",
       "2  2023-01-03            68                  493                      46   \n",
       "3  2023-01-04            48                  287                      88   \n",
       "4  2023-01-05            62                  232                      40   \n",
       "\n",
       "   total_arrival  \n",
       "0            346  \n",
       "1             66  \n",
       "2            607  \n",
       "3            423  \n",
       "4            334  "
      ]
     },
     "execution_count": 29,
     "metadata": {},
     "output_type": "execute_result"
    }
   ],
   "source": [
    "margonda[\"total_arrival\"] = margonda[\"arrival_toko\"]+margonda[\"arrival_toko_shopee\"]+margonda[\"arrival_toko_tokopedia\"]\n",
    "margonda.head()"
   ]
  },
  {
   "cell_type": "code",
   "execution_count": 30,
   "id": "4972148f",
   "metadata": {},
   "outputs": [
    {
     "data": {
      "text/plain": [
       "270"
      ]
     },
     "execution_count": 30,
     "metadata": {},
     "output_type": "execute_result"
    }
   ],
   "source": [
    "len(shopee)+len(tokopedia)+len(margonda)"
   ]
  },
  {
   "cell_type": "code",
   "execution_count": 31,
   "id": "9cc77778",
   "metadata": {},
   "outputs": [
    {
     "data": {
      "text/html": [
       "<div>\n",
       "<style scoped>\n",
       "    .dataframe tbody tr th:only-of-type {\n",
       "        vertical-align: middle;\n",
       "    }\n",
       "\n",
       "    .dataframe tbody tr th {\n",
       "        vertical-align: top;\n",
       "    }\n",
       "\n",
       "    .dataframe thead th {\n",
       "        text-align: right;\n",
       "    }\n",
       "</style>\n",
       "<table border=\"1\" class=\"dataframe\">\n",
       "  <thead>\n",
       "    <tr style=\"text-align: right;\">\n",
       "      <th></th>\n",
       "      <th>date</th>\n",
       "      <th>total_arrival</th>\n",
       "      <th>channel</th>\n",
       "    </tr>\n",
       "  </thead>\n",
       "  <tbody>\n",
       "    <tr>\n",
       "      <th>0</th>\n",
       "      <td>2023-01-01</td>\n",
       "      <td>443</td>\n",
       "      <td>Shopee</td>\n",
       "    </tr>\n",
       "    <tr>\n",
       "      <th>1</th>\n",
       "      <td>2023-01-02</td>\n",
       "      <td>899</td>\n",
       "      <td>Shopee</td>\n",
       "    </tr>\n",
       "    <tr>\n",
       "      <th>2</th>\n",
       "      <td>2023-01-03</td>\n",
       "      <td>576</td>\n",
       "      <td>Shopee</td>\n",
       "    </tr>\n",
       "    <tr>\n",
       "      <th>3</th>\n",
       "      <td>2023-01-04</td>\n",
       "      <td>267</td>\n",
       "      <td>Shopee</td>\n",
       "    </tr>\n",
       "    <tr>\n",
       "      <th>4</th>\n",
       "      <td>2023-01-05</td>\n",
       "      <td>271</td>\n",
       "      <td>Shopee</td>\n",
       "    </tr>\n",
       "    <tr>\n",
       "      <th>...</th>\n",
       "      <td>...</td>\n",
       "      <td>...</td>\n",
       "      <td>...</td>\n",
       "    </tr>\n",
       "    <tr>\n",
       "      <th>265</th>\n",
       "      <td>2023-03-27</td>\n",
       "      <td>827</td>\n",
       "      <td>Toko Margonda</td>\n",
       "    </tr>\n",
       "    <tr>\n",
       "      <th>266</th>\n",
       "      <td>2023-03-28</td>\n",
       "      <td>389</td>\n",
       "      <td>Toko Margonda</td>\n",
       "    </tr>\n",
       "    <tr>\n",
       "      <th>267</th>\n",
       "      <td>2023-03-29</td>\n",
       "      <td>135</td>\n",
       "      <td>Toko Margonda</td>\n",
       "    </tr>\n",
       "    <tr>\n",
       "      <th>268</th>\n",
       "      <td>2023-03-30</td>\n",
       "      <td>311</td>\n",
       "      <td>Toko Margonda</td>\n",
       "    </tr>\n",
       "    <tr>\n",
       "      <th>269</th>\n",
       "      <td>2023-03-31</td>\n",
       "      <td>837</td>\n",
       "      <td>Toko Margonda</td>\n",
       "    </tr>\n",
       "  </tbody>\n",
       "</table>\n",
       "<p>270 rows × 3 columns</p>\n",
       "</div>"
      ],
      "text/plain": [
       "           date  total_arrival        channel\n",
       "0    2023-01-01            443         Shopee\n",
       "1    2023-01-02            899         Shopee\n",
       "2    2023-01-03            576         Shopee\n",
       "3    2023-01-04            267         Shopee\n",
       "4    2023-01-05            271         Shopee\n",
       "..          ...            ...            ...\n",
       "265  2023-03-27            827  Toko Margonda\n",
       "266  2023-03-28            389  Toko Margonda\n",
       "267  2023-03-29            135  Toko Margonda\n",
       "268  2023-03-30            311  Toko Margonda\n",
       "269  2023-03-31            837  Toko Margonda\n",
       "\n",
       "[270 rows x 3 columns]"
      ]
     },
     "execution_count": 31,
     "metadata": {},
     "output_type": "execute_result"
    }
   ],
   "source": [
    "combined_df = pd.concat(\n",
    "    [\n",
    "        shopee.rename(columns={\"arrival\":\"total_arrival\"}).assign(channel='Shopee'),\n",
    "        tokopedia.rename(columns={\"arrival\":\"total_arrival\"}).assign(channel='Tokopedia'),\n",
    "        margonda[[\"date\",\"total_arrival\"]].assign(channel='Toko Margonda')\n",
    "    ], \n",
    "    ignore_index=True\n",
    ")\n",
    "combined_df"
   ]
  },
  {
   "cell_type": "code",
   "execution_count": 32,
   "id": "bcf4fe9e",
   "metadata": {},
   "outputs": [],
   "source": [
    "import requests\n",
    "from bs4 import BeautifulSoup\n",
    "from selenium import webdriver\n",
    "from selenium.webdriver.common.keys import Keys\n",
    "import time"
   ]
  },
  {
   "cell_type": "code",
   "execution_count": 34,
   "id": "e2cb539b",
   "metadata": {},
   "outputs": [],
   "source": [
    "from selenium import webdriver\n",
    "from selenium.webdriver.common.by import By\n",
    "from selenium.webdriver.common.keys import Keys\n",
    "import time\n",
    "import bs4\n",
    "import pandas as pd"
   ]
  },
  {
   "cell_type": "code",
   "execution_count": null,
   "id": "03a68876",
   "metadata": {},
   "outputs": [],
   "source": [
    "# path_ke_driver = r'.\\chromedriver.exe'\n",
    "# service = Service(executable_path=path_ke_driver)\n",
    "# service=service\n",
    "\n",
    "user_data_path = r\"C:\\Users\\dioni\\AppData\\Local\\Google\\Chrome\\User Data\" \n",
    "profile_directory = \"Profile 3\" "
   ]
  },
  {
   "cell_type": "code",
   "execution_count": 2,
   "id": "a072242d",
   "metadata": {},
   "outputs": [
    {
     "name": "stdout",
     "output_type": "stream",
     "text": [
      "Mencoba memuat profil dari: C:\\Users\\dioni\\AppData\\Local\\Google\\Chrome\\User Data\\Profile 3\n",
      "Mencoba membuka URL: https://shopee.co.id/search?keyword=baju\n",
      "URL berhasil dibuka! Menunggu 15 detik...\n",
      "URL saat ini: https://shopee.co.id/search?keyword=baju\n",
      "Driver ditutup.\n"
     ]
    }
   ],
   "source": [
    "import time\n",
    "import os\n",
    "import undetected_chromedriver as uc # <-- 1. Import 'uc'\n",
    "\n",
    "# URL target\n",
    "url = \"https://shopee.co.id/search?keyword=baju\"\n",
    "\n",
    "# Tidak perlu Service, tidak perlu Options (dia otomatis cari profil)\n",
    "# Namun, kita bisa tambahkan path profil jika mau\n",
    "# --- SOLUSI 2: Arahkan path langsung ke folder 'Profile 3' ---\n",
    "base_path = r\"C:\\Users\\dioni\\AppData\\Local\\Google\\Chrome\\User Data\"\n",
    "profile_folder = \"Profile 3\"\n",
    "\n",
    "# Buat path lengkap ke folder profil\n",
    "# Hasilnya: C:\\Users\\dioni\\AppData\\Local\\Google\\Chrome\\User Data\\Profile 3\n",
    "full_profile_path = os.path.join(base_path, profile_folder)\n",
    "print(f\"Mencoba memuat profil dari: {full_profile_path}\")\n",
    "\n",
    "try:\n",
    "    # --- 2. GUNAKAN uc.Chrome() ---\n",
    "    # Dia akan otomatis mencari chromedriver yang cocok\n",
    "    driver = uc.Chrome(\n",
    "        user_data_dir=full_profile_path,\n",
    "    )\n",
    "    # ------------------------------\n",
    "    \n",
    "    print(f\"Mencoba membuka URL: {url}\")\n",
    "    driver.get(url)\n",
    "    \n",
    "    print(\"URL berhasil dibuka! Menunggu 15 detik...\")\n",
    "    time.sleep(1) \n",
    "    \n",
    "    print(f\"URL saat ini: {driver.current_url}\")\n",
    "\n",
    "\n",
    "except Exception as e:\n",
    "    print(f\"Gagal menjalankan driver atau membuka URL.\")\n",
    "    print(f\"Error: {e}\")\n",
    "\n",
    "finally:\n",
    "    if 'driver' in locals():\n",
    "        input(\"Tekan Enter untuk menutup browser...\")\n",
    "        driver.quit()\n",
    "        print(\"Driver ditutup.\")"
   ]
  },
  {
   "cell_type": "code",
   "execution_count": null,
   "id": "309e93d2",
   "metadata": {},
   "outputs": [],
   "source": []
  }
 ],
 "metadata": {
  "kernelspec": {
   "display_name": "Python 3",
   "language": "python",
   "name": "python3"
  },
  "language_info": {
   "codemirror_mode": {
    "name": "ipython",
    "version": 3
   },
   "file_extension": ".py",
   "mimetype": "text/x-python",
   "name": "python",
   "nbconvert_exporter": "python",
   "pygments_lexer": "ipython3",
   "version": "3.10.11"
  }
 },
 "nbformat": 4,
 "nbformat_minor": 5
}
