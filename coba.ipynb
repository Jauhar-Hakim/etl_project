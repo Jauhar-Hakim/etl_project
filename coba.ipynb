{
 "cells": [
  {
   "cell_type": "code",
   "execution_count": 1,
   "id": "a04705af",
   "metadata": {},
   "outputs": [],
   "source": [
    "import gspread"
   ]
  },
  {
   "cell_type": "code",
   "execution_count": 4,
   "id": "f427250c",
   "metadata": {},
   "outputs": [
    {
     "name": "stdout",
     "output_type": "stream",
     "text": [
      "Please visit this URL to authorize this application: https://accounts.google.com/o/oauth2/auth?response_type=code&client_id=516615602945-71tj4rma0e27fk3700s5eq87564pkoiv.apps.googleusercontent.com&redirect_uri=http%3A%2F%2Flocalhost%3A54347%2F&scope=https%3A%2F%2Fwww.googleapis.com%2Fauth%2Fspreadsheets+https%3A%2F%2Fwww.googleapis.com%2Fauth%2Fdrive&state=AQIDu8Xz4wrB48vMP8HKxRVu3WGKa9&access_type=offline\n"
     ]
    }
   ],
   "source": [
    "gc = gspread.oauth(credentials_filename='credentials.json')"
   ]
  },
  {
   "cell_type": "code",
   "execution_count": 5,
   "id": "85623563",
   "metadata": {},
   "outputs": [
    {
     "data": {
      "text/plain": [
       "<Spreadsheet 'Copy of Torch Arrival Data' id:1xEqT4kghsaAZYTdN7SN9UHN31Ehx29OykbG1Mjpm-go>"
      ]
     },
     "execution_count": 5,
     "metadata": {},
     "output_type": "execute_result"
    }
   ],
   "source": [
    "sht2 = gc.open_by_url('https://docs.google.com/spreadsheets/d/1xEqT4kghsaAZYTdN7SN9UHN31Ehx29OykbG1Mjpm-go/edit?gid=0#gid=0')\n",
    "\n",
    "sht2"
   ]
  },
  {
   "cell_type": "code",
   "execution_count": 7,
   "id": "390ef61c",
   "metadata": {},
   "outputs": [
    {
     "data": {
      "text/plain": [
       "<Worksheet 'Shopee' id:0>"
      ]
     },
     "execution_count": 7,
     "metadata": {},
     "output_type": "execute_result"
    }
   ],
   "source": [
    "worksheet = sht2.get_worksheet(0)\n",
    "worksheet = sht2.worksheet(\"Shopee\")\n",
    "worksheet"
   ]
  },
  {
   "cell_type": "code",
   "execution_count": 8,
   "id": "a548ab20",
   "metadata": {},
   "outputs": [
    {
     "data": {
      "text/plain": [
       "[<Worksheet 'Shopee' id:0>,\n",
       " <Worksheet 'Tokopedia' id:715003248>,\n",
       " <Worksheet 'TokoMargonda' id:1960044452>]"
      ]
     },
     "execution_count": 8,
     "metadata": {},
     "output_type": "execute_result"
    }
   ],
   "source": [
    "sht2.worksheets()"
   ]
  },
  {
   "cell_type": "code",
   "execution_count": 9,
   "id": "51d769a2",
   "metadata": {},
   "outputs": [],
   "source": [
    "import pandas as pd\n",
    "\n",
    "dataframe = pd.DataFrame(worksheet.get_all_records())"
   ]
  },
  {
   "cell_type": "code",
   "execution_count": null,
   "id": "3f16b5bc",
   "metadata": {},
   "outputs": [],
   "source": []
  }
 ],
 "metadata": {
  "kernelspec": {
   "display_name": "Python 3",
   "language": "python",
   "name": "python3"
  },
  "language_info": {
   "codemirror_mode": {
    "name": "ipython",
    "version": 3
   },
   "file_extension": ".py",
   "mimetype": "text/x-python",
   "name": "python",
   "nbconvert_exporter": "python",
   "pygments_lexer": "ipython3",
   "version": "3.10.11"
  }
 },
 "nbformat": 4,
 "nbformat_minor": 5
}
